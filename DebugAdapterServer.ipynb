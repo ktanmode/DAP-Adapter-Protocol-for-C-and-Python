{
 "cells": [
  {
   "cell_type": "markdown",
   "id": "1aa25e9f",
   "metadata": {},
   "source": [
    "# Bridging Debugging Gaps: Creating a DAP-Compatible Debug Adapter between Binaries and Debuggers\n",
    "\n",
    "## Introduction\n",
    "\n",
    "This Jupyter notebook serves as the codebase for the implementation of the Debug Adapter using the Debug Adapter Protocol (DAP) for our thesis project. Our objective is to bridge various development tools with the GDB debugger, thereby providing a unified interface for debugging across multiple platforms.\n",
    "\n",
    "## What is a Debug Adapter?\n",
    "\n",
    "A Debug Adapter serves as an intermediary between a development environment and a debugger. Instead of each tool having its own unique interface for every debugger, the Debug Adapter Protocol provides a common set of conventions that can be used by any tool to communicate with any debugger. This results in significant efficiency gains as development tools can now interact with a variety of debuggers through a standardized protocol.\n"
   ]
  },
  {
   "cell_type": "markdown",
   "id": "c8ed6b15",
   "metadata": {},
   "source": [
    "## Purpose of the Codebase\n",
    "\n",
    "This code provides an abstraction layer over the GDB debugger, encapsulating the basic functionalities required for debugging such as loading programs, setting command-line arguments, and starting the program execution. Further, it lays the foundation for implementing more advanced features like setting breakpoints, stepping through code, and inspecting variable values, among others.\n"
   ]
  },
  {
   "cell_type": "markdown",
   "id": "ed562eb4",
   "metadata": {},
   "source": [
    "## What is a Debug Adapter?\n",
    "\n",
    "A Debug Adapter serves as an intermediary between a development environment and a debugger. Instead of each tool having its own unique interface for every debugger, the Debug Adapter Protocol provides a common set of conventions that can be used by any tool to communicate with any debugger. This results in significant efficiency gains as development tools can now interact with a variety of debuggers through a standardized protocol."
   ]
  },
  {
   "cell_type": "markdown",
   "id": "8bbff638",
   "metadata": {},
   "source": [
    "## Setup and Installation\n",
    "\n",
    "### 1. Install required modules:\n",
    "\n",
    "Before running the code, ensure you have the required installations installed. The primary debugger we utilize here is `gdb` "
   ]
  },
  {
   "cell_type": "markdown",
   "id": "97c87d6c",
   "metadata": {},
   "source": [
    "# Introduction to GDB (GNU Debugger)\n",
    "\n",
    "In the context of this thesis, GDB, which stands for **GNU Debugger**, plays a crucial role in facilitating the debugging and analysis of computer programs written in languages like C and C++. GDB is a powerful and versatile tool that serves as a debugger for various programming languages. In this section, we will provide an overview of GDB, its significance, and the reasons for its inclusion in our research.\n",
    "\n",
    "## Role of GDB\n",
    "\n",
    "**GDB** serves as a debugging tool used by software developers and researchers to:\n",
    "\n",
    "1. **Identify and Fix Bugs**: GDB allows developers to identify and rectify errors, also known as bugs, within their source code. These bugs can range from simple syntax errors to complex logical issues that affect the program's behavior.\n",
    "\n",
    "2. **Inspect Program Execution**: GDB provides the capability to inspect a program's execution step by step. This includes examining variables, memory, and the call stack to understand how a program behaves during runtime.\n",
    "\n",
    "3. **Set Breakpoints**: Breakpoints are markers set within the code to pause program execution at specific points. GDB allows developers to set breakpoints, making it easier to examine the program's state at critical junctures.\n",
    "\n",
    "4. **Analyze Core Dumps**: When a program crashes, GDB can be used to analyze core dump files, providing valuable insights into the state of the program at the time of the crash.\n",
    "\n",
    "5. **Profiling and Performance Analysis**: GDB can be utilized for profiling and performance analysis, helping developers optimize their code for efficiency.\n",
    "\n",
    "#### We select GDB (GNU Debugger) for our thesis due to its essential role in debugging and analyzing complex software systems.\n"
   ]
  },
  {
   "cell_type": "markdown",
   "id": "22ccbdb4",
   "metadata": {},
   "source": [
    "### 2. Install GDB:\n",
    "If you don't have GDB installed, you'll need to get it set up on your system. How you do this will vary depending on your OS:"
   ]
  },
  {
   "cell_type": "markdown",
   "id": "ab154847",
   "metadata": {},
   "source": [
    "##### For Debian-based Linux distributions:\n"
   ]
  },
  {
   "cell_type": "code",
   "execution_count": 14,
   "id": "5e0b2ba6",
   "metadata": {},
   "outputs": [
    {
     "ename": "SyntaxError",
     "evalue": "invalid syntax (2556847051.py, line 1)",
     "output_type": "error",
     "traceback": [
      "\u001b[1;36m  Input \u001b[1;32mIn [14]\u001b[1;36m\u001b[0m\n\u001b[1;33m    sudo apt-get install gdb\u001b[0m\n\u001b[1;37m         ^\u001b[0m\n\u001b[1;31mSyntaxError\u001b[0m\u001b[1;31m:\u001b[0m invalid syntax\n"
     ]
    }
   ],
   "source": [
    "sudo apt-get install gdb"
   ]
  },
  {
   "cell_type": "markdown",
   "id": "008b799e",
   "metadata": {},
   "source": [
    "##### For Red Hat-based distributions:"
   ]
  },
  {
   "cell_type": "code",
   "execution_count": 15,
   "id": "6410ef07",
   "metadata": {},
   "outputs": [
    {
     "ename": "SyntaxError",
     "evalue": "invalid syntax (1532665435.py, line 1)",
     "output_type": "error",
     "traceback": [
      "\u001b[1;36m  Input \u001b[1;32mIn [15]\u001b[1;36m\u001b[0m\n\u001b[1;33m    sudo yum install gdb\u001b[0m\n\u001b[1;37m         ^\u001b[0m\n\u001b[1;31mSyntaxError\u001b[0m\u001b[1;31m:\u001b[0m invalid syntax\n"
     ]
    }
   ],
   "source": [
    "sudo yum install gdb"
   ]
  },
  {
   "cell_type": "markdown",
   "id": "d7ec7903",
   "metadata": {},
   "source": [
    "##### For macOS (using Homebrew):"
   ]
  },
  {
   "cell_type": "code",
   "execution_count": 16,
   "id": "033f29e0",
   "metadata": {},
   "outputs": [
    {
     "ename": "SyntaxError",
     "evalue": "invalid syntax (1692721093.py, line 1)",
     "output_type": "error",
     "traceback": [
      "\u001b[1;36m  Input \u001b[1;32mIn [16]\u001b[1;36m\u001b[0m\n\u001b[1;33m    brew install gdb\u001b[0m\n\u001b[1;37m         ^\u001b[0m\n\u001b[1;31mSyntaxError\u001b[0m\u001b[1;31m:\u001b[0m invalid syntax\n"
     ]
    }
   ],
   "source": [
    "brew install gdb"
   ]
  },
  {
   "cell_type": "markdown",
   "id": "dd10312d",
   "metadata": {},
   "source": [
    "##### Ensure GDB is correctly installed by running:"
   ]
  },
  {
   "cell_type": "code",
   "execution_count": null,
   "id": "d02e8bb1",
   "metadata": {},
   "outputs": [],
   "source": [
    "gdb --version"
   ]
  },
  {
   "cell_type": "markdown",
   "id": "1b117261",
   "metadata": {},
   "source": [
    "\n",
    "##  Debugger Class\n",
    "\n",
    "The presented cell establishes a basic framework for interfacing with the GDB debugger. The `Debugger` class provides an abstraction layer, allowing for easier interaction with the underlying debugger functionalities:\n",
    "\n",
    "- **Imports**: \n",
    "  - `gdb`: Module for GDB interactions.\n",
    "  - `re`: Regular expression library, generally used for string manipulations and parsing.\n",
    "\n",
    "- **Debugger Class**:\n",
    "  - **Initialization**: On creation, it takes the path to the executable we wish to debug and loads it into GDB.\n",
    "  - **Setting Arguments**: Facilitates setting any command-line arguments needed by the program during its execution.\n",
    "  - **Program Execution**: Provides a method to start the program under the GDB debugger.\n",
    "  \n",
    "As the notebook progresses, we'll extend the capabilities of this class to integrate more advanced debugging operations, offering a comprehensive debugging interface."
   ]
  },
  {
   "cell_type": "code",
   "execution_count": null,
   "id": "0e72cb47",
   "metadata": {},
   "outputs": [],
   "source": [
    "# Import required libraries\n",
    "import gdb\n",
    "import re\n",
    "\n",
    "class Debugger:\n",
    "    def __init__(self, path_to_executable):\n",
    "        # Initialize the Debugger with the path to the executable\n",
    "        self.path = path_to_executable\n",
    "        self.args = \"\"\n",
    "        self.load_program()\n",
    "\n",
    "    def load_program(self):\n",
    "        # Load the program using GDB\n",
    "        gdb.execute(\"file {}\".format(self.path))\n",
    "\n",
    "    def set_args(self, arguments):\n",
    "        # Set command-line arguments for the program\n",
    "        arg_str = arguments\n",
    "        gdb.execute(\"set args '{}'\".format(arg_str))\n",
    "\n",
    "    def start_program(self):\n",
    "        # Start the program execution\n",
    "        gdb.execute(\"run\", to_string=True)\n",
    "\n",
    "    # Additional methods for breakpoints, stepping, and more\n",
    "        def set_breakpoint(self, location):\n",
    "        gdb.Breakpoint(location)\n",
    "        print(\"Breakpoint set at {}\".format(location))\n",
    "\n",
    "    def set_breakpoint_at_line(self, line_number):\n",
    "        brkpnt_format = self.path.split(\"/\")[-1] + \".c\"\n",
    "        breakpoint_location = \"{}:{}\".format(brkpnt_format, line_number)\n",
    "        gdb.Breakpoint(breakpoint_location)\n",
    "        \n",
    "        return (\"Breakpoint set at {}:{}\".format(brkpnt_format, line_number))\n",
    "\n",
    "    def step_over(self):\n",
    "        gdb.execute('next')\n",
    "\n",
    "    def continue_exec(self):\n",
    "        gdb.execute('continue', to_string=True)\n",
    "\n",
    "    def get_stack_trace(self):\n",
    "        print(\"STACKTRACE:\")\n",
    "        return gdb.execute('bt', to_string=False)\n",
    "    \n",
    "    def print_current_line():\n",
    "        frame = gdb.selected_frame()\n",
    "        sal = frame.find_sal()\n",
    "        print(f\"Current line: {sal.line} in {sal.symtab.filename}\")\n",
    "\n",
    "    def quit(self):\n",
    "        # Disable confirmation prompts\n",
    "        gdb.execute('set confirm off')\n",
    "        gdb.execute('quit')\n",
    "\n",
    "    def get_variable_value(self, variable_name):\n",
    "        return gdb.parse_and_eval(variable_name)\n",
    "    \n",
    "    def print_local_variables(self):\n",
    "        print(\"Printing Local Variables\")\n",
    "        locals_info = gdb.execute('info locals', to_string=True)\n",
    "        print(locals_info)\n",
    "\n",
    "    def set_breakpoints_on_all_functions(self):\n",
    "        # Get the list of all functions\n",
    "        functions_info = gdb.execute(\"info functions\", to_string=True)\n",
    "\n",
    "        # Split the information by lines\n",
    "        lines = functions_info.splitlines()\n",
    "\n",
    "        # Compile a regular expression to match C/C++ function names\n",
    "        regex = re.compile(r'\\w+(\\w+::)*\\w+\\(')\n",
    "\n",
    "        # Iterate over each line\n",
    "        for line in lines:\n",
    "            # Search for function names using the regex pattern\n",
    "            match = regex.search(line)\n",
    "            if match:\n",
    "                # The regex captures the function name with a trailing '('\n",
    "                # We remove that '(' to get just the function name\n",
    "                function_name = match.group()[:-1]\n",
    "                # Set breakpoint on this function\n",
    "                self.set_breakpoint(function_name)\n",
    "\n",
    "    def set_breakpoints_on_returns(self, func_name):\n",
    "        print(f\"Setting breakpoints on return instructions of {func_name}\")\n",
    "        \n",
    "        # Disassemble the function and collect the output\n",
    "        disas_output = gdb.execute(f\"disassemble {func_name}\", to_string=True)\n",
    "        \n",
    "        # Split the output by lines\n",
    "        lines = disas_output.split('\\n')\n",
    "\n",
    "        # Regular expression to extract address\n",
    "        regex = re.compile(r\"^(0x[0-9a-f]+)\")\n",
    "\n",
    "        # For each line, check if it contains the 'ret' instruction\n",
    "        for line in lines:\n",
    "            if 'ret' in line:\n",
    "                address = line.split()[0]\n",
    "                gdb.Breakpoint(\"*{}\".format(address))\n",
    "                print(f\"Breakpoint set at address {address}\")"
   ]
  },
  {
   "cell_type": "markdown",
   "id": "ebb26008",
   "metadata": {},
   "source": [
    "# DebugServer\n",
    "\n",
    "The DebugServer cell serves as a critical bridge between our custom debugger and external clients. It functions as a communication hub, responsible for receiving incoming requests from clients, processing these requests, and orchestrating interactions with the debugger to perform debugging operations. \n",
    "\n",
    "- **Imports**: \n",
    "  - `socket`: This module is integral for establishing a server-client architecture, enabling the DebugServer to create a communication endpoint, bind to a specific address and port, and listen for incoming connection requests from clients. The server utilizes this module to receive and send data to connected clients, forming the backbone of interaction in the debugging environment.\n",
    "  - `json`: The json module is crucial for encoding and decoding JSON data. Given the universally accepted nature of JSON as a data exchange format, this module is essential for parsing received JSON formatted string requests and for encoding response data into JSON format before transmitting back to the clients.\n",
    "  \n",
    "## Client-Server Interaction Flow\n",
    "\n",
    "- Server Initialization: The server starts and waits for a client connection.\n",
    "- Connection Establishment: Upon a client connection, the server enters into a communication loop with the client.\n",
    "- Command Reception & Processing: The server receives JSON formatted string commands, processes them by invoking the corresponding debugger methods, and formulates a response.\n",
    "- Response Transmission: The structured response, encoded in JSON format, is then transmitted back to the client, ensuring the client is apprised of the outcome of their request.\n",
    "- Connection Termination: The server gracefully terminates the connection once the client disconnects.\n",
    "- This structured and interactive cell ensures precise and user-friendly interaction between clients and the debugger, allowing diverse debugging operations to be conducted with ease and accuracy."
   ]
  },
  {
   "cell_type": "code",
   "execution_count": null,
   "id": "4028aad7",
   "metadata": {},
   "outputs": [],
   "source": [
    "import socket\n",
    "import json\n",
    "\n",
    "class DebugServer:\n",
    "\n",
    "    def __init__(self, debugger, host='localhost', port=12345):\n",
    "        self.debugger = debugger\n",
    "        self.server_socket = socket.socket(socket.AF_INET, socket.SOCK_STREAM)\n",
    "        self.server_socket.bind((host, port))\n",
    "        self.server_socket.listen(5)\n",
    "        print(f\"Listening on {host}:{port}\")\n",
    "\n",
    "    def handle_client(self, client_socket):\n",
    "\n",
    "        seq = 0\n",
    "        while(True):\n",
    "            request_data = client_socket.recv(1024).decode('utf-8')\n",
    "            if not request_data:  # Check if data received is empty\n",
    "                print(\"Client disconnected\")\n",
    "                return  # Return from this function to handle other clients or stop\n",
    "            print(\"Data is:\",request_data)\n",
    "            print(\"\\n\")\n",
    "            headers, json_string = request_data.split('\\n', 1)\n",
    "            request = json.loads(json_string)\n",
    "            \n",
    "            print(request)\n",
    "\n",
    "            response = {\n",
    "                'type': 'response',\n",
    "                'success': False,\n",
    "                'seq': seq,\n",
    "                'request_seq': 0,\n",
    "                'body': {},\n",
    "                'command': request['command'],\n",
    "                'message': ''\n",
    "            }\n",
    "            \n",
    "\n",
    "            try:\n",
    "                if request['command'] == 'initialize':\n",
    "                    path_to_executable = request['path_to_executable']\n",
    "                    if not path_to_executable:\n",
    "                        response[\"status\"] = \"error_path\"\n",
    "                        response[\"data\"] = str(e)\n",
    "                        response[\"success\"] = False\n",
    "                        raise ValueError(\"Path to executable not provided\")\n",
    "                    \n",
    "                    self.debugger.load_program(path_to_executable)\n",
    "                    response[\"success\"] = True\n",
    "\n",
    "                elif request['command'] == 'setArgs':\n",
    "                    #print(\"Setting Arguments\")\n",
    "                    print(\"XDLMAO\" + request['args'])\n",
    "                    self.debugger.set_args(request['args'])\n",
    "                    response[\"success\"] = True\n",
    "\n",
    "                elif request['command'] == 'start':\n",
    "                    #print(\"Starting/Running\")\n",
    "                    self.debugger.start_program()\n",
    "                    response[\"success\"] = True\n",
    "\n",
    "                elif request['command'] == 'setBreakpoints':\n",
    "                    #print(\"Setting\")\n",
    "                    self.debugger.set_breakpoint(request['location'])\n",
    "                    response[\"success\"] = True\n",
    "\n",
    "                elif request['command'] == 'next':\n",
    "                    self.debugger.step_over()\n",
    "                    response[\"success\"] = True\n",
    "\n",
    "                elif request['command'] == 'continue':\n",
    "                    self.debugger.continue_exec()\n",
    "                    response[\"success\"] = True\n",
    "\n",
    "                elif request['command'] == 'stackTrace':\n",
    "                    response[\"data\"] = self.debugger.get_stack_trace()\n",
    "                    response[\"success\"] = True\n",
    "\n",
    "                elif request['command'] == 'get_variable':\n",
    "                    var_value = self.debugger.get_variable_value(request['var_name'])\n",
    "                    response[\"data\"] = str(var_value)\n",
    "                    response[\"success\"] = True\n",
    "\n",
    "                elif request['command'] == 'print_locals':\n",
    "                    response[\"data\"] = self.debugger.print_local_variables()\n",
    "                    response[\"success\"] = True\n",
    "                elif request['command'] == 'setBreakpointAtLine':\n",
    "                    response['message'] = self.debugger.set_breakpoint_at_line(request['line'])\n",
    "                    response[\"success\"] = True\n",
    "                else:\n",
    "                    response[\"success\"] = False\n",
    "                    response[\"status\"] = \"error\"\n",
    "                    response[\"data\"] = \"Unknown command\"\n",
    "\n",
    "            except Exception as e:\n",
    "                response[\"status\"] = \"error\"\n",
    "                response[\"data\"] = str(e)\n",
    "            \n",
    "            response[\"seq\"] = seq\n",
    "            client_socket.send(json.dumps(response).encode())\n",
    "            #client_socket.close()\n",
    "            seq += 1\n",
    "\n",
    "    def run(self):\n",
    "        client_socket, addr = self.server_socket.accept()\n",
    "        print(f\"Accepted connection from {addr}\")\n",
    "        self.handle_client(client_socket)\n",
    "\n",
    "            \n",
    "        client_socket.close()\n"
   ]
  },
  {
   "cell_type": "code",
   "execution_count": null,
   "id": "8d97426d",
   "metadata": {},
   "outputs": [],
   "source": [
    "# Create a debugger instance\n",
    "debugger = Debugger()\n",
    "\n",
    "# Create and run the server\n",
    "server = DebugServer(debugger)\n",
    "server.run()"
   ]
  }
 ],
 "metadata": {
  "kernelspec": {
   "display_name": "Python 3 (ipykernel)",
   "language": "python",
   "name": "python3"
  },
  "language_info": {
   "codemirror_mode": {
    "name": "ipython",
    "version": 3
   },
   "file_extension": ".py",
   "mimetype": "text/x-python",
   "name": "python",
   "nbconvert_exporter": "python",
   "pygments_lexer": "ipython3",
   "version": "3.9.12"
  }
 },
 "nbformat": 4,
 "nbformat_minor": 5
}
