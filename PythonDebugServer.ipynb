{
 "cells": [
  {
   "cell_type": "markdown",
   "id": "e1e6d20c",
   "metadata": {},
   "source": [
    "# DAP with python debugger `debugpy`\n",
    "\n",
    "Debugpy is a debugger created for python that has built in DAP functionality, this means that there is less effort needed to intergrate a connection between the debugger and the client, as debugpy allows for a direct connection without the need of a debug adapter.\n",
    "\n",
    "## The Command\n",
    "- $filename defines the name of the python file being debugged\n",
    "\n",
    "- $port defines the port to be listening on\n",
    "\n"
   ]
  },
  {
   "cell_type": "code",
   "execution_count": 3,
   "id": "c443a2c2",
   "metadata": {},
   "outputs": [
    {
     "ename": "SyntaxError",
     "evalue": "invalid syntax (2332621270.py, line 1)",
     "output_type": "error",
     "traceback": [
      "\u001b[1;36m  Input \u001b[1;32mIn [3]\u001b[1;36m\u001b[0m\n\u001b[1;33m    python3 -m debugpy --listen $port --wait-for-client $filename\u001b[0m\n\u001b[1;37m               ^\u001b[0m\n\u001b[1;31mSyntaxError\u001b[0m\u001b[1;31m:\u001b[0m invalid syntax\n"
     ]
    }
   ],
   "source": [
    "python3 -m debugpy --listen $port --wait-for-client $filename"
   ]
  },
  {
   "cell_type": "code",
   "execution_count": null,
   "id": "ebd6cc66",
   "metadata": {},
   "outputs": [],
   "source": []
  }
 ],
 "metadata": {
  "kernelspec": {
   "display_name": "Python 3 (ipykernel)",
   "language": "python",
   "name": "python3"
  },
  "language_info": {
   "codemirror_mode": {
    "name": "ipython",
    "version": 3
   },
   "file_extension": ".py",
   "mimetype": "text/x-python",
   "name": "python",
   "nbconvert_exporter": "python",
   "pygments_lexer": "ipython3",
   "version": "3.9.12"
  }
 },
 "nbformat": 4,
 "nbformat_minor": 5
}
